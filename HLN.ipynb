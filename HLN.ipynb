{
 "cells": [
  {
   "cell_type": "code",
   "execution_count": 1,
   "metadata": {
    "collapsed": false
   },
   "outputs": [
    {
     "name": "stderr",
     "output_type": "stream",
     "text": [
      "C:\\Users\\bram\\Anaconda3\\lib\\site-packages\\sklearn\\utils\\fixes.py:64: DeprecationWarning: inspect.getargspec() is deprecated, use inspect.signature() instead\n",
      "  if 'order' in inspect.getargspec(np.copy)[0]:\n"
     ]
    }
   ],
   "source": [
    "import requests\n",
    "import json\n",
    "from nltk import util\n",
    "import markovify.text\n",
    "import io"
   ]
  },
  {
   "cell_type": "code",
   "execution_count": 2,
   "metadata": {
    "collapsed": false
   },
   "outputs": [],
   "source": [
    "%run keys.py\n",
    "# bevat client_id en client_secret"
   ]
  },
  {
   "cell_type": "markdown",
   "metadata": {},
   "source": [
    "# De comments binnenhalen"
   ]
  },
  {
   "cell_type": "code",
   "execution_count": 3,
   "metadata": {
    "collapsed": true
   },
   "outputs": [],
   "source": [
    "baseUrl = \"https://graph.facebook.com\"\n",
    "pageName = \"hln.be\""
   ]
  },
  {
   "cell_type": "code",
   "execution_count": 4,
   "metadata": {
    "collapsed": false
   },
   "outputs": [],
   "source": [
    "oauth = requests.get(baseUrl + \"/oauth/access_token\", \n",
    "                     params={\n",
    "                        \"client_id\": client_id,\n",
    "                        \"client_secret\": client_secret,\n",
    "                        \"grant_type\": \"client_credentials\"})\n",
    "access_token = oauth.text.split(\"=\")[1]"
   ]
  },
  {
   "cell_type": "markdown",
   "metadata": {},
   "source": [
    "## De laatste posts ophalen"
   ]
  },
  {
   "cell_type": "code",
   "execution_count": 5,
   "metadata": {
    "collapsed": false,
    "scrolled": true
   },
   "outputs": [],
   "source": [
    "posts = requests.get(baseUrl + \"/v2.5/ \" + pageName + \"/posts\",\n",
    "                     params={\"access_token\": access_token})\n",
    "postids = []\n",
    "\n",
    "for i in range(100): # vraag 100 keer voor \"meer\" posts\n",
    "    postids.extend(list(post[\"id\"] for post in json.loads(posts.text)[\"data\"]))\n",
    "    try:\n",
    "        posts = requests.get(json.loads(posts.text)[\"paging\"][\"next\"])\n",
    "    except KeyError:\n",
    "        break;"
   ]
  },
  {
   "cell_type": "markdown",
   "metadata": {},
   "source": [
    "## De comments op die posts downloaden"
   ]
  },
  {
   "cell_type": "code",
   "execution_count": 6,
   "metadata": {
    "collapsed": false,
    "scrolled": false
   },
   "outputs": [],
   "source": [
    "commentslist = []\n",
    "for postid in postids:\n",
    "    comments = requests.get(baseUrl + \"/v2.5/\" + postid + \"/comments\",\n",
    "                            params={\"access_token\": access_token})\n",
    "\n",
    "    while True:\n",
    "        try:\n",
    "            commentsobject = json.loads(comments.text)\n",
    "            commentslist.extend(list(comment[\"message\"] for comment in commentsobject[\"data\"]))\n",
    "        except:\n",
    "            break\n",
    "        \n",
    "        if not \"paging\" in commentsobject.keys():\n",
    "            break\n",
    "        \n",
    "        comments = requests.get(baseUrl + \"/v2.5/\" + postid + \"/comments\",\n",
    "                                params={\n",
    "                                    \"access_token\": access_token,\n",
    "                                    \"after\": commentsobject[\"paging\"][\"cursors\"][\"after\"]})"
   ]
  },
  {
   "cell_type": "markdown",
   "metadata": {},
   "source": [
    "Hoeveel comments hebben we nu?"
   ]
  },
  {
   "cell_type": "code",
   "execution_count": 7,
   "metadata": {
    "collapsed": false,
    "scrolled": false
   },
   "outputs": [
    {
     "data": {
      "text/plain": [
       "326640"
      ]
     },
     "execution_count": 7,
     "metadata": {},
     "output_type": "execute_result"
    }
   ],
   "source": [
    "len(commentslist)"
   ]
  },
  {
   "cell_type": "markdown",
   "metadata": {},
   "source": [
    "En hoe zien die comments er uit?"
   ]
  },
  {
   "cell_type": "code",
   "execution_count": 8,
   "metadata": {
    "collapsed": false
   },
   "outputs": [
    {
     "data": {
      "text/plain": [
       "[\"En gelijk heeft'm!!! Ik zie het allemaal graag: geef niet in aan haat, omhels elkaar, het is allemaal niet zo erg, het zijn er maar enkelen, etc. Allemaal goed en wel.... als je naief bent en verder overrrompeld wil worden terwijl je je kop in't zand steekt! Werk idd aan integratie, maar doe tegelijk ook aan harde repressie en sterke sanctionering van ongewest gedrag! Voor alle betrokkenen, ook zij die stilzwijgend goedkeuren!\",\n",
       " 'In extreme omstandigheden zijn extreme middelen nodig om moordenaars te dwingen tot bekentenisen. Ik sta volledig achter Trump wat betreft deze materie. Geen enkele genade met massamoordenaars. Wij Belgen zijn veel te soft met alle resultaten vandien !!!',\n",
       " 'grote kans dat je onschuldigen had kunnen redden, terwijl je zeker weet dat dit een rotzak is, folteren zeker weten, had maar niet bij IS moeten aansluiten...',\n",
       " 'En als je een onschuldige foltert?  Omdat je er zeker van bent dat hij schuldig is?  Bij doodstraf zijn er al onschuldige gedood of bijna gedood. Daar denk niemand blijkbaar aan.\\nEn ik insinueer niet dat abdelslam dat niet verdient.',\n",
       " 'Wij hebben een wet nodig die radicalen alle rechten van de mens afneemt. Geen recht op advocaat en vrijgeleide voor foltering en executie',\n",
       " 'Als da onschuldige mensenlevens kan redden, waarom ni... Terroristen zien ook naar niks... Erger nog... Ze beloven het gerecht medewerking en zijn eigelijk een klein onderdeel van iets groter en dodelijker!!',\n",
       " 'Er zitten hier echt walgelijke mensen tussen die niet meer weten wat menselijk zijn is.... En wat is iemand onschuldig is en gefolterd word ?? Wat creëren jullie dan?? Juist nieuwe terroristen bende domkoppen bijeen hier.... Haat zaaien maar verwachten dat ze Vrede kunnen oogsten.\\nWie schuldig is krijgt zijn straf voor een Rechter en niet door hoop leeghoofden als de meeste hier die niet kunnen wachten om iemand te folteren....',\n",
       " 'Hij blijft een dwaas, maar jammer genoeg geef ik hem hier in wel gelijk. Neemt ook niet weg dat dit Minister Geens zijn fout is. Hoe debiel kan je zijn voor iemand vrij te laten die met een zwaar wapen naar de politie schiet?. Welkom in Belgie...',\n",
       " 'Als hij zou winnen, is het gedaan met de wereld. Hij zal overal gaan bombarderen, zodat Amerika in oorlog komt en zo de rest van de wereld. Hij is geen haar beter dan IS.',\n",
       " 'ookal slaan 99% van zijn uitspraken nergens op nu heeft em 100% gelijk. Moest belgie eindelijk eens hard durven optreden tegen zulk krapuul en hem idd zo aan de praat gekregen hebben had heel dit drama misschien voorkomen kunnen worden. Hopelijk gaan ze ooit eens beseffen dat beleefd vragen om informatie nooit gaat werken.',\n",
       " 'Psychologisch kan men ook martelen, misschien eerst dat eens proberen alvorens de hamer boven te halen om de vingers te verbrijzelen ? Heeft er iemand de film The Unthinkable gezien ? Fysieke foltering werkt maar in beperkte mate.',\n",
       " \"Eerst foltering wettig maken, en daarna kan hij iedereen die tegen hem is als 'terrorist' laten bestempelen en mee doen wat hij wil: opsluiten en folteren zonder proces....net zoals Assad en de dictators in die achterlijke landen zonder mensenrechten doen,,,\",\n",
       " 'Trump. Durft het te zeggen.voor hy president. Is hoed.af voor deze. Man.heeft wa hitler.trekken. ferm trumph.doe zo verder.in België zyn het allemaal. Biggen .van het varken. Eoropa',\n",
       " 'Nu geeft donald een punt en dat hij nog niet de waarheid zegt martel hem',\n",
       " 'Ik vind niet dat trump deze aanslag mag misbruiken voor zijn kampanje! Maar vind wel dat er in België harder moet opgetreden moet worden!!!!',\n",
       " \"'Als, als, als'...Trump wordt nooit president en maar goed ook....Hillary for President!\",\n",
       " 'Kunnen ze nu voor 1 keer eens doen bij HLN alsof die man niet bestaat ? Niemand heeft een boodschap aan zijn dwaasheden :(',\n",
       " 'Hij heeft GEEN gelijk en dat heeft VS bewezen... mensen die gefolterd werden gaven volledige verkeerde informatie.',\n",
       " 'Trump is nen absolute walgelijke trol maar ik vind ook da dit in deze gevalle moet kunne',\n",
       " 'Europa is veel te braaf, naief en tolerant! Wij hebben het niet \"geschaft\" dus moeten we nu naar andere dan Merkel luisteren!',\n",
       " 'Groot gelijk, martelen en dan executie. Lijk verbranden en assen gewoon doorspoelen, familie heeft er zelfs geen recht op.',\n",
       " 'ik weet maar één ding populistis gezwans en goed zot zou ik zeggen amaai wordt dat de volgende president ze zijn er wel mee',\n",
       " 'Haha en ineens mag folteren als het maar ne Moslim is he.... En Dutroux geven ze internet , bescherming ,eten en privileges ;)',\n",
       " 'Over één ding zijn we het dan toch eens ! Terug de doodstraf invoeren !',\n",
       " 'Dat geloof ik best, maar West Europa is tot een teer watje verworden.',\n",
       " 'dat is de tweede Hitler , hopelijk word die geen president want vrede ken hij ook niet',\n",
       " 'Voor een keer heeft hij gelijk,geen rechten voor terroristen....',\n",
       " 'Puh!!!!! En hij peist dat da iets zou uitgehaald ebben!!!! Dacht et nie.... Die gasten worden daarop getraind jong!!!! Wake Up Man 😣',\n",
       " 'Veiligheidsexperts kijken neer op folteren omdat de methode zeer onbetrouwbare informatie oplevert.\\n\\nDaarom dat folteren nu blijkbaar gewoon gebruikt wordt door politici die verkozen of herverkozen willen worden.',\n",
       " 'Alca heeft ondervonden dat folteren werkt. Beste manier om hele dorpen in een keer schuldig te laten bepalen.',\n",
       " 'Hja... De wereld is in veilige handen met die mannen in hun schone pakskes...',\n",
       " 'Go trump. Obama knuffelt ze liever net zoals hier. Hier zou hem strafvermindering krijgen.',\n",
       " 'hij heeft hier 100% gelijk punt! het is een gekke man maar hier heeft hij meer dan 100% gelijk!',\n",
       " 'Als hij verkozen wordt een 2de hitler en 3de wereld oorlog',\n",
       " 'Jaja,terug naar de middeleeuwen....',\n",
       " 'voor zoo een crapuul , moet dit zeker kunnen',\n",
       " 'op dat punt heeft hij gelijk',\n",
       " 'Ik hoop dat deze vent nooit president van Amerika gaat worden!!! Hij is net zo blind als IS!!! Ziekelijk!!',\n",
       " 'Volledig gelijk Trump!',\n",
       " \"Wat een reacties zeg, totenboek op z'n best...\",\n",
       " 'Zet die onnozelaar eens met zijn kl...n vast in een bankschroef!',\n",
       " 'wa nen eikel diene Trump !',\n",
       " 'un éléphant ça trump énormement, an elephant trumps enormously',\n",
       " 'Daar heeft hij eindelijk eens een PUNT.',\n",
       " 'Obama is zoveel beter zeker ? Nobelprijs Vrede winnaar Obama veroorzaakte al bijna 1 miljoen doden\\n\\n400.000 mensen vermoord in Syrië, 375.000 in Irak, 30.000 in Libië\\n\\nTegenover een journalist van TIME verklaarde Obama een paar jaar geleden vol trots dat hij ‘echt heel goed is in het vermoorden van mensen’. We vrezen dan ook dat Obama in zijn laatste maanden met een ‘flinke (wereldwijde?) klapper’ afscheid wil nemen van het Witte Huis.\\n\\nNog maar een maand of tien, en Obama is afgezwaaid als president van de Verenigde Staten – tenminste, als hij niet voor die tijd een nieuwe (inter)nationale crisis veroorzaakt waardoor hij de verkiezingen voor onbepaalde tijd kan opschorten. In 2009 kreeg Obama tot ieders verrassing de Nobelprijs voor de Vrede toegekend, en dat terwijl hij tot op dat moment nog helemaal niets had gepresteerd in zijn leven. Inmiddels is dat veranderd, en behoorlijk ook: met de virtuele vredesmedaille in zijn hand is hij direct verantwoordelijk voor de dood van 995.000 mensen.\\n\\nDrie andere presidenten gingen Obama voor als winnaars van de Nobelprijs voor de Vrede: Theodore Roosevelt, bekend als de moorddadige ‘ruwe ruiter’ tijdens de Amerikaanse invasie van Cuba in de Spaans-Amerikaanse oorlog; Woodrow Wilson, die de VS in de Eerste Wereldoorlog stortte en de invasie van de Dominicaanse Republiek en Nicaragua beval; en natuurlijk de ‘fameuze’ Jimmy Carter, die de CIA opdracht gaf in Afghanistan een bende seriemoordenaars en islamitische fanatici te trainen tot terreurgroepen die tegen de Sovjets moesten vechten. Carter verdiende daarmee de dubieuze eer zichzelf de schepper van Al-Qaeda en de Taliban te mogen noemen.\\n\\n‘War on terror’ niet gestopt, maar verhevigd\\n\\nObama beloofde een einde te maken aan de ‘war on terror’ van George Bush, maar had al na 5 jaar 8 x meer droneaanvallen laten uitvoeren in het Midden Oosten en Afrika dan zijn verguisde voorganger, en daarbij vele tienduizenden onschuldige burgerslachtoffers gemaakt. Desondanks verscheen er nog altijd geen kwaad woord over hem in de Westerse media, die hem bleven (en blijven) verafgoden.\\n\\nBovendien gaf Obama zichzelf als allereerste Amerikaanse president ooit het recht om overal ter wereld tegen iedere partij oorlog te voeren, zonder opgave van reden. Daarbij bepaalde hij dat iedereen, ook burgers, zelfs die van zijn eigen land, een legaal doelwit zijn om te worden geliquideerd als hij dat nodig acht.\\n\\nBijna 1 miljoen doden, en het einde nog niet in zicht\\n\\nObama’s oorlogsmisdaden zijn inmiddels bijna net zo erg als die van George W. Bush, die Irak binnenviel en daar meer dan 1 miljoen mensen liet afslachten. De huidige president is verantwoordelijk voor de illegale bombardementen op Libië en de totale chaos die daarna ontstond. Samen met de Turken en Saudi’s creëerde en bewapende Obama ISIS, en steunde hij daarnaast tal van andere Salafistische jihadisten, die het stabiele Syrië vrijwel volledig verwoestten en al zo’n 300.000 tot 500.000 mensen vermoordden, voornamelijk christenen en ‘verkeerde’ (Shi’itische) moslims.\\n\\nIn Irak staat de teller op 375.000 doden –het leeuwendeel burgers- sinds Obama in de Oval Office terecht kwam. Libië (tussen de 18.000 en 30.000 doden) liet hij verwoesten door zijn al even bloeddorstige minister van Buitenlandse Zaken Hillary Clinton, die wat de Amerikaanse gevestigde orde betreft in november tot zijn opvolger wordt gekozen. Onder Clinton werd de NAVO, ooit een verdedigend bondgenootschap, definitief een niets ontziende groep militaire huurmoordenaars in de handen van de globalistische Westerse elite, die na de moord op de Libische leider Gadaffi ook de Syrische president Assad probeerden om te leggen.\\n\\nOp naar de Derde Wereldoorlog\\n\\nOmdat de lijst slachtoffers en wreedheden eindeloos is, besloot de grootste Amerikaanse vrije nieuwssite Infowars om Obama opnieuw te ‘nomineren’ voor de Nobelprijs voor de Vrede, ‘deze als een aanvullend eerbetoon voor het moorden en afslachten dat almaar doorgaat nu hij het einde van zijn termijn nadert.’ Tevens mag Obama zich de grootste wapenhandelaar na de Tweede Wereldoorlog noemen – hij verkocht al voor $ 30 miljard méér wapens dan Bush, en is verantwoordelijk voor 31% van alle wapenverkopen ter wereld. (2)\\n\\nMet een beetje pech lukt het Obama om nog vóór november een of meerdere nieuwe grote oorlogen te ontketenen, zowel in het Midden- als Verre Oosten, en mogelijk ook in Oekraïne, waar hij samen met de EU verantwoordelijk is voor een fascistische staatsgreep die uiteindelijk een oorlog met Rusland kan veroorzaken. Ook Syrië is nog altijd een heel kort lontje in het kruitvat dat de Derde Wereldoorlog kan doen ontsteken.\\n\\nObama zal hoe dan ook zijn voorganger in het aantal dode mensen dat op zijn conto komt willen overtreffen. En als hem dat onverhoopt niet lukt, dan kan hij dat met een gerust hart overlaten aan zijn ijskoude, totaal verdorven opvolger Hillary Clinton. Althans, als de elite eerst Donald Trump uit de weg heeft laten ruimen. 1- http://www.infowars.com/infowars-awards-obama-2nd-nobel-peace-prize/ 2 - http://www.infowars.com/obama-wins-2nd-nobel-peace-prize/',\n",
       " 'Groot gelijk en dan nog halal (martelen) ook :-P',\n",
       " 'Me like Trump..... geen gepamper',\n",
       " \"Laat die teringlijder zn smoel houden net zo'n kwal als Bill gates\",\n",
       " 'idd,in dit geval had het 34 onschuldige levens kunnen redden.dus   tja',\n",
       " \"En terecht met zo'n gespuis geen compasie\"]"
      ]
     },
     "execution_count": 8,
     "metadata": {},
     "output_type": "execute_result"
    }
   ],
   "source": [
    "commentslist[:50]"
   ]
  },
  {
   "cell_type": "markdown",
   "metadata": {},
   "source": [
    "## Een back-up maken van de comments die we hebben gedownload"
   ]
  },
  {
   "cell_type": "code",
   "execution_count": 9,
   "metadata": {
    "collapsed": false
   },
   "outputs": [],
   "source": [
    "with open('commentslist.json', 'w') as f:\n",
    "    json.dump(commentslist, f)"
   ]
  },
  {
   "cell_type": "markdown",
   "metadata": {},
   "source": [
    "## De back-up herstellen - begin hier om niet met de Facebook API te werken"
   ]
  },
  {
   "cell_type": "code",
   "execution_count": 10,
   "metadata": {
    "collapsed": true
   },
   "outputs": [],
   "source": [
    "with open('commentslist.json') as f:\n",
    "    commentslist = json.load(f)"
   ]
  },
  {
   "cell_type": "markdown",
   "metadata": {},
   "source": [
    "# Een natural language model maken"
   ]
  },
  {
   "cell_type": "code",
   "execution_count": 11,
   "metadata": {
    "collapsed": false
   },
   "outputs": [],
   "source": [
    "text_model2 = markovify.text.NewlineText(\"\\n\".join(commentslist))"
   ]
  },
  {
   "cell_type": "markdown",
   "metadata": {},
   "source": [
    "## Gerandomizeerde zinnen laten schrijven"
   ]
  },
  {
   "cell_type": "markdown",
   "metadata": {},
   "source": [
    "## state size = 2"
   ]
  },
  {
   "cell_type": "code",
   "execution_count": 12,
   "metadata": {
    "collapsed": false
   },
   "outputs": [
    {
     "name": "stdout",
     "output_type": "stream",
     "text": [
      "Ja hoe wijs is da ?nu kunde\n",
      "Ze zouden ze pas hun stem\n",
      "Niks gratis te rijden, waar er GEEN How comes ?\n",
      "Als je weet het niet of dit wel juist info dan?\n",
      "Filip Van Den Steen\n",
      "Kasper Goetgeluck Lowie Goetgeluck je zal de burger bewust niet wil doen ,, dat is het gevonden hebben...!\n",
      "Wat belachelijk is dit. Ik hoop het !\n",
      "ggoii der een paar weken na dat hij toch! Niks te willen\n",
      "Ik vind het een welgemeende FUCK YOU!\n",
      "dat zijn toch verplicht in de scholen\n",
      "Wanneer komen we er geen jong gepensioneerde die hem gek laten verklaren zeker\n",
      "Trots dat uw vrouw eens zelf staan. jullie zakken te vullen , wij zijn allemaal schuldig als Salah heeft niks te verbergen, ....\n",
      "Er zijn genoeg aanwijzingen als iedereen toch zo ver mogelijk, dank u\n",
      "Geldverkwisting en wij zijn ook enorme monsters waar ze zoveel onkostenvergoedingen moeten inbrengen.\n",
      "en nog es te lenen dan ook zo meelevend zijn moest het eentje van ons. Geld verdienen andermans misserie....SCHANDALIG\n",
      "Kom op en wij worden stilaan deze dingen toch zwaar over!!\n",
      "UItleveren dat varken, en dat in Turkije willen blijven? Tis het moment dat meneer de Premier League nee\n",
      "De volgende zijn :D\n",
      "Een volk heeft genoeg gekost dus ik kook ook volgens mij heeft een hoge diploma hebben om op te voeden.\n",
      "ga er mee staat te zwaaien ipv te gaan staan van deze open blijven...\n",
      "mogelijk ? straks ook nog een misdrijf zal begaan\n",
      "Canadezen zijn zulke slimme daar in haar achterste steekt.\n",
      "Dat is gewoon een job waar ze zich vervelend? Dan een beetje respect tonen Jezus man\n",
      "Emma Van Dijck Jelle Vanzeir\n",
      "daarom zijn mijn Oempa Loempa's 😂😂\n",
      "Ge meent het !!!\n",
      "Ze zouden dat moeten afschaffen dat politiekers kunnen dat nog 🙄😒\n",
      "En de komende jare gewoon op reis ho ame\n",
      "Chris van der Meer\n",
      "Kurt Bruyninckx doet da goe! En als het ongeziene!\n",
      "Rémi Gérard nooit meer goed bezig Francken\n",
      "Die zijn zo nog een Top Advocaat !!! En niet alleen ikea heeft soms een manoeuver doen.\n",
      "Gebruik een tijdklok en sluit Sala op in vervoerstelling van Dieselwagens heeft de gemiddelde EU burger iets kunnen bedenken om z'n loontje\n",
      "Verzorg hem nie deftig kunnen pleiten!\n",
      "Besteed geld ’nuttig’ ipv bv aan deze vreemdelingen dat is illegaal,en crimineel\n",
      "ik zie u dees voor ne werkmens is da nie voor kan opbrengen .\n",
      "de zoon de situatie hebt gezeten weet je dit doen!!! Sukkels!!!\n",
      "Afdanken die kerel te fileren.\n",
      "Die weet is wat slimmer is dan toch nog meer slachtoffers en van meiskes die zoiets idioots doen. Karma\n",
      "Genoeg! Jullie doen geen tv dan Willy naessens Brigitte Bilterest\n",
      "eindelijk een toy boy te strikken Voorhaar eenzame dagen en onze leefgewoonten , en gelijk met welk dieet\n",
      "Allee en als wij naar die kinderen misbruikt dan als je vanalles op uwe kop man!\n",
      "Lowie de Becker !!!\n",
      "Nog meer met wetten doe je da in PO\n",
      "1. Dat is niet bij jan en alleman ,,,,,\n",
      "Elise is zien hoe dat komt. Die krijgen ook nooit doen ook.\n",
      "Dus pizza eten op het haar blijven achtervolgen... 😢\n",
      "aan wie gaan ze toch nog een paar euro ook terugstorten had stuyven niet gewonnen?\n",
      "levert ze uit hem krijgen.. Veel te laat uw mensen vluchten uit Syrië komen...\n",
      "Ik kan nog altijd déontologies weigeren mr mary wie behartigt de belangen van de scheermesjes van hilette\n"
     ]
    }
   ],
   "source": [
    "for i in range(50):\n",
    "    print(text_model2.make_short_sentence(140))"
   ]
  },
  {
   "cell_type": "markdown",
   "metadata": {},
   "source": [
    "## state size = 3"
   ]
  },
  {
   "cell_type": "code",
   "execution_count": 13,
   "metadata": {
    "collapsed": false
   },
   "outputs": [],
   "source": [
    "text_model3 = markovify.text.NewlineText(\"\\n\".join(commentslist), state_size=3)"
   ]
  },
  {
   "cell_type": "code",
   "execution_count": 14,
   "metadata": {
    "collapsed": false
   },
   "outputs": [
    {
     "name": "stdout",
     "output_type": "stream",
     "text": [
      "Gebruik een tijdklok en sluit die grenzen toch zij komen gewoon mee binnen met al die haat tegen onze samenleving prediken .\n",
      "Oei, er komt al een bericht binnen dat het nog lang duren dat hij in een cinemazaal zat. Zijn assistent belhocine communiceerde meer met de tram reizen hhor is al ver gekomen,we blijven ons verlagen hier in Belgie.\n",
      "Als ik lees wat ze allemaal uitvinden om geld uit hun zakken gehaald?\n",
      "Wat Lola betreft zal het mij niet kunnen schelen kzou mijn dochter nog recht inde ogen kunnen kijken van hun geliefde. Rust zacht <3\n",
      "Zo zie je maar dat alles alleen kan als het hun past en anders den bak in?\n",
      "Ja,er is oorlog in hun land !\n",
      "deze hond verdiend een tweede kans dan ???\n",
      "Peter De Bleser hier ben ik geschokt van\n",
      "Mieke Clyy hier baby dees kan ons ook nog wat anders zijn 😂\n",
      "Dan niet trouwen Wout. Je kunt het team volgen hier op FB komt....erger kan niet!!!\n",
      "Gerecht mijn kloten ja oe dat jij dit stuk krapuul ook vrij probeert te krijgen voor wat om goed geld te krijgen en dit erg kwetsend is dat je nog steeds ... tijdloze humor ,\n",
      "De lijn, wanneer gaan ze het ook zo één? :p\n",
      "Dopkaart, wou die nog niet van de zelfde mening zijn.... Ik zou graag de keerzijde van het verhaal niet goed, misschien kan de vaatwasser dit wel..? Dat schoonmaken ging niet zo lekker toch?\n",
      "Wat trek ik mij op die 4 focussen.\n",
      "Caroline Beke Nu weten we aan ons eigen geld terug onder de vlieger en boven de oceaan of onder een varkensstal steken\n",
      "Voor belgen kan niks alleen voor die monsters. Vanaf nu moet gans Belgie gekuist worden, en die monsters verdienen de doodstraf of levenslang!! En miss ze ook is hoe het ras echt is ! 😍😍😍\n",
      "Kom maar allemaal naar hier komen. Shi pleit voor één samenleving waar men niet naast maar met elkaar zijn bij die van twee walletjes drinkt .\n",
      "De VN hadden we niet zien aankomen seg die vent is ziek !\n",
      "None\n",
      "Men vergeet voor alle gemak dat 80 % van de wereld mss was hij onder invloed mss had hij de bloemetjes beter aan mij gegeven kzou ik er wel enkele met de gsm spelen achter het stuur!! en beter voor de haarstructuur.\n",
      "Iedere maand hebben die vuile klootzakken ze maken ons naam van de islam. Wie dat niet door hebben!\n",
      "dit meisje heeft dan nog mijn deur ingestampt. Effectief binnen en nooit meer terug hè mensen,denk daar aan. Dank u Sven Mary. Misschien wil hij gewoon enkele dagen rust en neemt hij spoedig contact op .\n",
      "Heb eens één aflevering gezien en dat ze nooit haakneuzen mogen vertrouwen. Heel simpel.\n",
      "En toch blijven miljoenen mensen hun leven leiden\n",
      "Niet waar, de 2 onderste verdwijnen gewoon uit de grond om je te herscholen voor een knelpuntberoep.\n",
      "en wij belgen vragen niet voor een vuurpeleton want deze zijn geen mensen geen beesten dit heeft geen enkel toegevoegde waarde, we gaan meer en meer mensen afhaken en hun uitweg zoeken in ziekte of dat ze met de vluchtelingen naar Syrië verhuist, zij wil ze toch zo licht ontvlambaar zijn .\n",
      "Antidepressiva is niet gezond, sporten of met vrienden afspreken is wel gezond en goed voelt want zo ziet hij er niet voor moeten betalen.\n",
      "wat een kutverhaal mensen die graag hond lusten? Ik denk toch ook bruno ..\n",
      "als die zo gezegde stadsbesturders en vlaamse poletiekers we moeten al die mannen nu gaat het beginnen de kans dat die kerel nog nodig hebben\n",
      "None\n",
      "Jordy en ik maar medelijden hebben met die shit geen schuld en Vlaanderen heeft geen schuld aan de oorlog ginds!\n",
      "Als ze tegen die na België komen zouden screenen plaats van iedereen met open armen ontvangen. Gaat dit mediagebeuren nu verandering brengen en met welk transport?trouwens al die daarbij waren gewoon oppakken en op nen boot terug sturen!! Gedaan ermee!!\n",
      "dat ze hier weg gaan...alleen maar zever met dit volk te deporteren naar marokko\n",
      "Veel reactie van jonge mensen. Ik wens het nieuwe verliefde paar al geluk van de Vlaamse frites\n",
      "Finally he did it due to a “sexual emergency,” local media reported citing the interrogation record published by the Austrian Press Agency.\n",
      "Tja, wat moet hij nog stempelgeld hebben...\n",
      "None\n",
      "als je alleen voor je zieke mama zorgt op jonge leeftijd . Denk dat ik mijn job met een hart van goud\n",
      "None\n",
      "Ze verwachten het, maar lieten de luchthaven open zonder enige vorm van verantwoording! Er is nog wat\n",
      "Deel liever ons geld niet nodig ze krijgen het niet.\n",
      "zegt tegen die belachelijke pedofielen dat ze hun beter dan jullie doen!\n",
      "die luizen van de pers te smijten ! Wat denken jullie , gooi die vuil varkens\n",
      "SCHANDALIG!!! Wa een rot rechtssysteem is da hier toch als hij de grondwet NIET wil respecteren dan mag gans diene nest uitleveren. Ist gene tijd voor zenne lol\n",
      "En moet hij nu ook maar eens houden, komt toch niets zinnigs te melden hebt.\n",
      "None\n",
      "wanneer gaat men politiekers eens verantwoordelijk stellen van hun daden al hun rechten verliezen!\n",
      "Die hebben allemaal naar de kloten en gaan ze nekeer iets doen tegen Poetin en Asad!!\n",
      "En opnieuw zijn we een stapje dichter naar de NWO totale controle over de schapen !!\n",
      "het zit hier vol met intelligente mensen... people...\n"
     ]
    }
   ],
   "source": [
    "for i in range(50):\n",
    "    print(text_model3.make_sentence())"
   ]
  }
 ],
 "metadata": {
  "kernelspec": {
   "display_name": "Python 3",
   "language": "python",
   "name": "python3"
  },
  "language_info": {
   "codemirror_mode": {
    "name": "ipython",
    "version": 3
   },
   "file_extension": ".py",
   "mimetype": "text/x-python",
   "name": "python",
   "nbconvert_exporter": "python",
   "pygments_lexer": "ipython3",
   "version": "3.5.0"
  }
 },
 "nbformat": 4,
 "nbformat_minor": 0
}
