{
 "cells": [
  {
   "cell_type": "code",
   "execution_count": 1,
   "metadata": {
    "collapsed": false
   },
   "outputs": [
    {
     "name": "stderr",
     "output_type": "stream",
     "text": [
      "C:\\Users\\bram\\Anaconda3\\lib\\site-packages\\sklearn\\utils\\fixes.py:64: DeprecationWarning: inspect.getargspec() is deprecated, use inspect.signature() instead\n",
      "  if 'order' in inspect.getargspec(np.copy)[0]:\n"
     ]
    }
   ],
   "source": [
    "import requests\n",
    "import json\n",
    "from nltk import util\n",
    "import markovify.text\n",
    "import io"
   ]
  },
  {
   "cell_type": "code",
   "execution_count": 2,
   "metadata": {
    "collapsed": false
   },
   "outputs": [],
   "source": [
    "%run keys.py\n",
    "# bevat client_id en client_secret"
   ]
  },
  {
   "cell_type": "markdown",
   "metadata": {},
   "source": [
    "# De comments binnenhalen"
   ]
  },
  {
   "cell_type": "code",
   "execution_count": 3,
   "metadata": {
    "collapsed": true
   },
   "outputs": [],
   "source": [
    "baseUrl = \"https://graph.facebook.com\"\n",
    "pageName = \"hln.be\""
   ]
  },
  {
   "cell_type": "code",
   "execution_count": 4,
   "metadata": {
    "collapsed": false
   },
   "outputs": [],
   "source": [
    "oauth = requests.get(baseUrl + \"/oauth/access_token\", \n",
    "                     params={\n",
    "                        \"client_id\": client_id,\n",
    "                        \"client_secret\": client_secret,\n",
    "                        \"grant_type\": \"client_credentials\"})\n",
    "access_token = oauth.text.split(\"=\")[1]"
   ]
  },
  {
   "cell_type": "markdown",
   "metadata": {},
   "source": [
    "## De laatste posts ophalen"
   ]
  },
  {
   "cell_type": "code",
   "execution_count": null,
   "metadata": {
    "collapsed": false,
    "scrolled": true
   },
   "outputs": [],
   "source": [
    "posts = requests.get(baseUrl + \"/v2.5/ \" + pageName + \"/posts\",\n",
    "                     params={\"access_token\": access_token})\n",
    "postids = []\n",
    "\n",
    "for i in range(100): # vraag 100 keer voor \"meer\" posts\n",
    "    postids.extend(list(post[\"id\"] for post in json.loads(posts.text)[\"data\"]))\n",
    "    try:\n",
    "        posts = requests.get(json.loads(posts.text)[\"paging\"][\"next\"])\n",
    "    except KeyError:\n",
    "        break;"
   ]
  },
  {
   "cell_type": "markdown",
   "metadata": {},
   "source": [
    "## De comments op die posts downloaden"
   ]
  },
  {
   "cell_type": "code",
   "execution_count": null,
   "metadata": {
    "collapsed": false
   },
   "outputs": [],
   "source": [
    "commentslist = []\n",
    "for postid in postids:\n",
    "    comments = requests.get(baseUrl + \"/v2.5/\" + postid + \"/comments\",\n",
    "                            params={\"access_token\": access_token})\n",
    "\n",
    "    while True:\n",
    "        commentsobject = json.loads(comments.text)\n",
    "        commentslist.extend(list(comment[\"message\"] for comment in commentsobject[\"data\"]))\n",
    "        \n",
    "        if not \"paging\" in commentsobject.keys():\n",
    "            break\n",
    "        \n",
    "        comments = requests.get(baseUrl + \"/v2.5/\" + postid + \"/comments\",\n",
    "                                params={\n",
    "                                    \"access_token\": access_token,\n",
    "                                    \"after\": commentsobject[\"paging\"][\"cursors\"][\"after\"]})"
   ]
  },
  {
   "cell_type": "markdown",
   "metadata": {},
   "source": [
    "Hoeveel comments hebben we nu?"
   ]
  },
  {
   "cell_type": "code",
   "execution_count": null,
   "metadata": {
    "collapsed": false,
    "scrolled": false
   },
   "outputs": [],
   "source": [
    "len(commentslist)"
   ]
  },
  {
   "cell_type": "markdown",
   "metadata": {},
   "source": [
    "En hoe zien die comments er uit?"
   ]
  },
  {
   "cell_type": "code",
   "execution_count": null,
   "metadata": {
    "collapsed": false
   },
   "outputs": [],
   "source": [
    "commentslist[:50]"
   ]
  },
  {
   "cell_type": "markdown",
   "metadata": {},
   "source": [
    "## Een back-up maken van de comments die we hebben gedownload"
   ]
  },
  {
   "cell_type": "code",
   "execution_count": null,
   "metadata": {
    "collapsed": false
   },
   "outputs": [],
   "source": [
    "with open('commentslist.json', 'w') as f:\n",
    "    json.dump(commentslist, f)"
   ]
  },
  {
   "cell_type": "markdown",
   "metadata": {},
   "source": [
    "## De back-up herstellen - begin hier om niet met de Facebook API te werken"
   ]
  },
  {
   "cell_type": "code",
   "execution_count": null,
   "metadata": {
    "collapsed": true
   },
   "outputs": [],
   "source": [
    "with open('commentslist.json') as f:\n",
    "    commentslist = json.load(f)"
   ]
  },
  {
   "cell_type": "markdown",
   "metadata": {},
   "source": [
    "# Een natural language model maken"
   ]
  },
  {
   "cell_type": "code",
   "execution_count": null,
   "metadata": {
    "collapsed": false
   },
   "outputs": [],
   "source": [
    "text_model2 = markovify.text.NewlineText(\"\\n\".join(commentslist))"
   ]
  },
  {
   "cell_type": "markdown",
   "metadata": {},
   "source": [
    "## Gerandomizeerde zinnen laten schrijven"
   ]
  },
  {
   "cell_type": "markdown",
   "metadata": {},
   "source": [
    "## state size = 2"
   ]
  },
  {
   "cell_type": "code",
   "execution_count": null,
   "metadata": {
    "collapsed": false
   },
   "outputs": [],
   "source": [
    "for i in range(50):\n",
    "    print(text_model2.make_short_sentence(140))"
   ]
  },
  {
   "cell_type": "markdown",
   "metadata": {},
   "source": [
    "## state size = 3"
   ]
  },
  {
   "cell_type": "code",
   "execution_count": null,
   "metadata": {
    "collapsed": false
   },
   "outputs": [],
   "source": [
    "text_model3 = markovify.text.NewlineText(\"\\n\".join(commentslist), state_size=3)"
   ]
  },
  {
   "cell_type": "code",
   "execution_count": null,
   "metadata": {
    "collapsed": false
   },
   "outputs": [],
   "source": [
    "for i in range(50):\n",
    "    print(text_model3.make_sentence())"
   ]
  }
 ],
 "metadata": {
  "kernelspec": {
   "display_name": "Python 3",
   "language": "python",
   "name": "python3"
  },
  "language_info": {
   "codemirror_mode": {
    "name": "ipython",
    "version": 3
   },
   "file_extension": ".py",
   "mimetype": "text/x-python",
   "name": "python",
   "nbconvert_exporter": "python",
   "pygments_lexer": "ipython3",
   "version": "3.5.0"
  }
 },
 "nbformat": 4,
 "nbformat_minor": 0
}
